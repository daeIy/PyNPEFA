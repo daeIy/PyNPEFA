{
 "cells": [
  {
   "cell_type": "markdown",
   "metadata": {},
   "source": [
    "# PyNPEFA\n",
    "\n",
    "PyNPEFA is a Python implementation of Integrated Prediction Error Filter Analysis (INPEFA) to show trend discontinuities in the data. This work is based on my BSc final project."
   ]
  },
  {
   "cell_type": "code",
   "execution_count": null,
   "metadata": {},
   "outputs": [],
   "source": [
    "%matplotlib inline\n",
    "\n",
    "import matplotlib.pyplot as plt\n",
    "import lasio\n",
    "import numpy as np\n",
    "from PyNPEFA import PyNPEFA"
   ]
  },
  {
   "cell_type": "markdown",
   "metadata": {},
   "source": [
    "Read LAS file by using lasio Python package."
   ]
  },
  {
   "cell_type": "code",
   "execution_count": null,
   "metadata": {},
   "outputs": [],
   "source": [
    "y = lasio.read(\".\\\\data\\\\1051308423.las\").df().GR.dropna()\n",
    "x = np.array(y.index.tolist())\n",
    "\n",
    "inpefa_log = {}\n",
    "inpefa_log['Depth'] = x"
   ]
  },
  {
   "cell_type": "markdown",
   "metadata": {},
   "source": [
    "Apply PyNPEFA on the data."
   ]
  },
  {
   "cell_type": "code",
   "execution_count": null,
   "metadata": {
    "scrolled": false
   },
   "outputs": [],
   "source": [
    "inpefa_log = PyNPEFA(y,x)"
   ]
  },
  {
   "cell_type": "markdown",
   "metadata": {},
   "source": [
    "Plot the result."
   ]
  },
  {
   "cell_type": "code",
   "execution_count": null,
   "metadata": {
    "scrolled": false
   },
   "outputs": [],
   "source": [
    "plt.figure(figsize=(18, 16), dpi= 80, facecolor='w', edgecolor='k')\n",
    "\n",
    "plt.subplot(151)\n",
    "plt.plot(inpefa_log['OG'],-x) # Original signal\n",
    "plt.grid(True)\n",
    "plt.xlabel('GR (API)')\n",
    "plt.ylabel('Depth (ft)')\n",
    "plt.xlim((0,150))\n",
    "plt.title('Original GR Curve')\n",
    "\n",
    "plt.subplot(152)\n",
    "plt.plot(inpefa_log['1'],-x) # Long term INPEFA\n",
    "plt.grid(True)\n",
    "plt.xlim((-1,1))\n",
    "plt.title('Long Term INPEFA')\n",
    "\n",
    "plt.subplot(153)\n",
    "plt.plot(inpefa_log['2'],-x) # Mid term INPEFA\n",
    "plt.grid(True)\n",
    "plt.xlim((-1,1))\n",
    "plt.title('Mid Term INPEFA')\n",
    "\n",
    "plt.subplot(154)\n",
    "plt.plot(inpefa_log['3'],-x) # Short term INPEFA\n",
    "plt.grid(True)\n",
    "plt.xlim((-1,1))\n",
    "plt.title('Short Term INPEFA')\n",
    "\n",
    "plt.subplot(155)\n",
    "plt.plot(inpefa_log['4'],-x) # Shorter term INPEFA\n",
    "plt.grid(True)\n",
    "plt.xlim((-1,1))\n",
    "plt.title('Shorter Term INPEFA')\n",
    "\n",
    "plt.show()"
   ]
  },
  {
   "cell_type": "markdown",
   "metadata": {},
   "source": [
    "Save result to CSV file."
   ]
  },
  {
   "cell_type": "code",
   "execution_count": null,
   "metadata": {},
   "outputs": [],
   "source": [
    "import csv\n",
    "\n",
    "with open('.\\\\result\\\\PyNPEFA.csv', 'w') as f:\n",
    "    w = csv.DictWriter(f, inpefa_log.keys())\n",
    "    w.writeheader()\n",
    "    w.writerow(inpefa_log)"
   ]
  }
 ],
 "metadata": {
  "kernelspec": {
   "display_name": "Python 3",
   "language": "python",
   "name": "python3"
  },
  "language_info": {
   "codemirror_mode": {
    "name": "ipython",
    "version": 3
   },
   "file_extension": ".py",
   "mimetype": "text/x-python",
   "name": "python",
   "nbconvert_exporter": "python",
   "pygments_lexer": "ipython3",
   "version": "3.7.4"
  }
 },
 "nbformat": 4,
 "nbformat_minor": 4
}
